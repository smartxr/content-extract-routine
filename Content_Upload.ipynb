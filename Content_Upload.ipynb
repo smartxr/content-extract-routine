{
 "cells": [
  {
   "cell_type": "code",
   "execution_count": null,
   "id": "5c2c9b5c",
   "metadata": {},
   "outputs": [],
   "source": [
    "# pip install azure-storage-blob"
   ]
  },
  {
   "cell_type": "code",
   "execution_count": null,
   "id": "7f8703e3",
   "metadata": {},
   "outputs": [],
   "source": [
    "import os\n",
    "import sys\n",
    "from dotenv import load_dotenv\n",
    "\n",
    "from azure.storage.blob import BlobServiceClient, BlobClient, ContentSettings\n",
    "from azure.core.exceptions import ResourceExistsError\n",
    "# from azure.identity import DefaultAzureCredential\n",
    "# from azure.identity import ClientSecretCredential\n",
    "# from azure.identity import ManagedIdentityCredential"
   ]
  },
  {
   "cell_type": "code",
   "execution_count": null,
   "id": "46089945",
   "metadata": {},
   "outputs": [],
   "source": [
    "# Read environment variables from a .env file\n",
    "load_dotenv() # Load variables from .env file"
   ]
  },
  {
   "cell_type": "code",
   "execution_count": null,
   "id": "05a0e822",
   "metadata": {},
   "outputs": [],
   "source": [
    "# Read work folders from environment variables\n",
    "DOCUMENT_PRODUCED = os.environ.get(\"DOCUMENT_PRODUCED\")\n",
    "BLOB_CONNECTION_STRING = os.environ.get(\"BLOB_CONNECTION_STRING\")\n",
    "BLOB_CONTAINER_NAME = os.environ.get(\"BLOB_CONTAINER_NAME\")\n",
    "\n",
    "print(f\"Produced folder: {DOCUMENT_PRODUCED}\")\n",
    "print(f\"Blob connection string: {BLOB_CONNECTION_STRING}\")\n",
    "print(f\"Blob container name: {BLOB_CONTAINER_NAME}\")"
   ]
  },
  {
   "cell_type": "code",
   "execution_count": null,
   "id": "b7679dde",
   "metadata": {},
   "outputs": [],
   "source": [
    "# Upload content of a folder to Azure Blob Storage\n",
    "\n",
    "# Initialize Blob Service Client\n",
    "try:\n",
    "    blob_service_client = BlobServiceClient.from_connection_string(BLOB_CONNECTION_STRING)\n",
    "    # blob_service_client = BlobServiceClient(account_url=\"https://<your_account_name>.blob.core.windows.net\", credential=DefaultAzureCredential())\n",
    "except Exception as e:\n",
    "    print(f\"Error creating BlobServiceClient: {e}\")\n",
    "    sys.exit(1)\n",
    "\n",
    "# Create a container client\n",
    "try:\n",
    "    container_client = blob_service_client.get_container_client(BLOB_CONTAINER_NAME)\n",
    "    # Ensure the container exists\n",
    "    container_client.create_container()\n",
    "except ResourceExistsError:\n",
    "    print(f\"Container '{BLOB_CONTAINER_NAME}' already exists.\")\n",
    "    # pass  # Ignore if already exists\n",
    "except Exception as e:\n",
    "    print(f\"Error creating container: {e}\")\n",
    "    sys.exit(1)\n",
    "\n",
    "# Upload files recursively\n",
    "for root, dirs, files in os.walk(DOCUMENT_PRODUCED):\n",
    "    for filename in files:\n",
    "        file_path = os.path.join(root, filename)\n",
    "        # Create a blob path relative to the DOCUMENT_PRODUCED\n",
    "        blob_path = os.path.relpath(file_path, DOCUMENT_PRODUCED).replace(\"\\\\\", \"/\")\n",
    "\n",
    "        print(f\"Uploading {file_path} to {blob_path}...\")\n",
    "\n",
    "        try:\n",
    "            with open(file_path, \"rb\") as data:\n",
    "                container_client.upload_blob(\n",
    "                    name=blob_path,\n",
    "                    data=data,\n",
    "                    overwrite=True,\n",
    "                    content_settings=ContentSettings(content_type=\"application/octet-stream\")\n",
    "                )\n",
    "        except Exception as e:\n",
    "            print(f\"Error uploading {file_path}: {e}\")\n",
    "\n",
    "print(\"✅ Upload completed.\")\n",
    "\n",
    "# Upload files to the container\n",
    "# for root, _, files in os.walk(local_folder_path):\n",
    "#     for file in files:\n",
    "#         file_path = os.path.join(root, file)\n",
    "#         blob_client = container_client.get_blob_client(file)\n",
    "#         try:\n",
    "#             with open(file_path, \"rb\") as data:\n",
    "#                 blob_client.upload_blob(data)\n",
    "#             print(f\"Uploaded {file} to {container_name}.\")\n",
    "#         except Exception as e:\n",
    "#             print(f\"Error uploading {file}: {e}\")\n"
   ]
  }
 ],
 "metadata": {
  "kernelspec": {
   "display_name": ".venv",
   "language": "python",
   "name": "python3"
  },
  "language_info": {
   "codemirror_mode": {
    "name": "ipython",
    "version": 3
   },
   "file_extension": ".py",
   "mimetype": "text/x-python",
   "name": "python",
   "nbconvert_exporter": "python",
   "pygments_lexer": "ipython3",
   "version": "3.9.16"
  }
 },
 "nbformat": 4,
 "nbformat_minor": 5
}
