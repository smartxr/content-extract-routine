{
 "cells": [
  {
   "cell_type": "code",
   "execution_count": null,
   "id": "1e139433",
   "metadata": {},
   "outputs": [],
   "source": [
    "# Install dependencies if not already installed\n",
    "# pip install PyMuPDF Pillow  # PyMuPDF = Fitz\n",
    "# pip install dotenv"
   ]
  },
  {
   "cell_type": "code",
   "execution_count": null,
   "id": "42dfddc5",
   "metadata": {},
   "outputs": [],
   "source": [
    "# Load the required libraries\n",
    "import os\n",
    "import glob\n",
    "from dotenv import load_dotenv"
   ]
  },
  {
   "cell_type": "code",
   "execution_count": null,
   "id": "758d8529",
   "metadata": {},
   "outputs": [],
   "source": [
    "# Import custom project libraries\n",
    "import Libraries.PyMuPDF_Parsing as pdf_parser\n",
    "import Libraries.Text_Parsing as text_parser"
   ]
  },
  {
   "cell_type": "code",
   "execution_count": null,
   "id": "a1107f98",
   "metadata": {},
   "outputs": [],
   "source": [
    "# Read environment variables from a .env file\n",
    "load_dotenv() # Load variables from .env file"
   ]
  },
  {
   "cell_type": "code",
   "execution_count": null,
   "id": "f8c713ec",
   "metadata": {},
   "outputs": [],
   "source": [
    "# Read work folders from environment variables\n",
    "DOCUMENT_SOURCES = os.environ.get(\"DOCUMENT_SOURCES\")\n",
    "DOCUMENT_PRODUCED = os.environ.get(\"DOCUMENT_PRODUCED\")\n",
    "\n",
    "# Set the file types in scope\n",
    "FILE_TYPES_STRING = os.environ.get(\"FILE_TYPES\")\n",
    "if FILE_TYPES_STRING:\n",
    "    FILE_TYPES = FILE_TYPES_STRING.split(\",\")\n",
    "# else:\n",
    "#     FILE_TYPES = [\"*.pdf\", \"*.txt\"]\n",
    "\n",
    "\n",
    "print(f\"Source folder: {DOCUMENT_SOURCES}\")\n",
    "print(f\"Produced folder: {DOCUMENT_PRODUCED}\")\n",
    "print(f\"File types in scope: {FILE_TYPES}\")"
   ]
  },
  {
   "cell_type": "code",
   "execution_count": null,
   "id": "0e08279d",
   "metadata": {},
   "outputs": [],
   "source": [
    "\"\"\"\n",
    "Parse the content of a document and store text chunks in the Produced.\n",
    "\"\"\"\n",
    "def parse_document_content(full_file_name):\n",
    "    # Check the file extension and parse accordingly\n",
    "    print(f\"Parsing file: {full_file_name}\")\n",
    "    \n",
    "    #extract file extension\n",
    "    file_extension = os.path.splitext(full_file_name)[1].lower()\n",
    "    # if full_file_name.endswith(\".pdf\"):\n",
    "    if file_extension in [\".pdf\", \".doc\", \".docx\", \".xls\", \".xlsx\", \".ppt\", \".pptx\"]:\n",
    "        # Open the PDF file using PyMuPDF\n",
    "        pdf_parser.parse_pymupdf_content(full_file_name, DOCUMENT_PRODUCED)\n",
    "\n",
    "\n",
    "    # elif file_path.endswith((\".doc\", \".docx\")):\n",
    "    #     # Use python-docx to read Word documents\n",
    "    #     from docx import Document\n",
    "    #     doc = Document(file_path)\n",
    "    #     for para in doc.paragraphs:\n",
    "    #         text += para.text + \"\\n\"\n",
    "\n",
    "    # elif file_path.endswith((\".xls\", \".xlsx\")):\n",
    "    #     # Use openpyxl to read Excel files\n",
    "    #     from openpyxl import load_workbook\n",
    "    #     wb = load_workbook(file_path)\n",
    "    #     for sheet in wb.sheetnames:\n",
    "    #         ws = wb[sheet]\n",
    "    #         for row in ws.iter_rows(values_only=True):\n",
    "    #             text += \" \".join(map(str, row)) + \"\\n\"\n",
    "\n",
    "    # elif file_path.endswith((\".ppt\", \".pptx\")):\n",
    "    #     # Use python-pptx to read PowerPoint files\n",
    "    #     from pptx import Presentation\n",
    "    #     prs = Presentation(file_path)\n",
    "    #     for slide in prs.slides:\n",
    "    #         for shape in slide.shapes:\n",
    "    #             if hasattr(shape, \"text\"):\n",
    "    #                 text += shape.text + \"\\n\"\n",
    "\n",
    "    elif file_extension in [\".srt\", \".txt\"]:\n",
    "        text_parser.parse_plain_text_content(full_file_name, DOCUMENT_PRODUCED)\n",
    "\n",
    "    else:\n",
    "        print(f\"Unsupported file type: {full_file_name}\")"
   ]
  },
  {
   "cell_type": "code",
   "execution_count": null,
   "id": "5b7cb763",
   "metadata": {},
   "outputs": [],
   "source": [
    "# Read a list of all files in the source directory (file types: .pdf, .docx, .xlsx, .pptx, .txt, .srt)\n",
    "files = []\n",
    "for file_type in FILE_TYPES:\n",
    "    files.extend(glob.glob(os.path.join(DOCUMENT_SOURCES, \"**\", file_type), recursive=True))\n",
    "\n",
    "print(\"Files found:\", len(files))\n",
    "# print(\"Files list:\", files)"
   ]
  },
  {
   "cell_type": "code",
   "execution_count": null,
   "id": "e5e502e2",
   "metadata": {},
   "outputs": [],
   "source": [
    "# Iterate processing through the files\n",
    "for file in files:\n",
    "    parse_document_content(file)"
   ]
  }
 ],
 "metadata": {
  "kernelspec": {
   "display_name": ".venv",
   "language": "python",
   "name": "python3"
  },
  "language_info": {
   "codemirror_mode": {
    "name": "ipython",
    "version": 3
   },
   "file_extension": ".py",
   "mimetype": "text/x-python",
   "name": "python",
   "nbconvert_exporter": "python",
   "pygments_lexer": "ipython3",
   "version": "3.9.16"
  }
 },
 "nbformat": 4,
 "nbformat_minor": 5
}
